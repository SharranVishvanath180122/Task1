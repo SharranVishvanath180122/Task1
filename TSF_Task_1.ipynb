{
 "cells": [
  {
   "cell_type": "code",
   "execution_count": 2,
   "id": "8fc08b54",
   "metadata": {},
   "outputs": [],
   "source": [
    "#Project by Sharran Vishvanath\n"
    "#importing libraries\n",
    "import pandas as pd\n",
    "import numpy as np\n",
    "import matplotlib.pyplot as plt"
   ]
  },
  {
   "cell_type": "code",
   "execution_count": 3,
   "id": "990c8207",
   "metadata": {},
   "outputs": [],
   "source": [
    "#load dataset\n",
    "datapath=\"https://raw.githubusercontent.com/AdiPersonalWorks/Random/master/student_scores%20-%20student_scores.csv\"\n",
    "data=pd.read_csv(datapath)"
   ]
  },
  {
   "cell_type": "code",
   "execution_count": 4,
   "id": "e295b4eb",
   "metadata": {},
   "outputs": [
    {
     "data": {
      "text/html": [
       "<div>\n",
       "<style scoped>\n",
       "    .dataframe tbody tr th:only-of-type {\n",
       "        vertical-align: middle;\n",
       "    }\n",
       "\n",
       "    .dataframe tbody tr th {\n",
       "        vertical-align: top;\n",
       "    }\n",
       "\n",
       "    .dataframe thead th {\n",
       "        text-align: right;\n",
       "    }\n",
       "</style>\n",
       "<table border=\"1\" class=\"dataframe\">\n",
       "  <thead>\n",
       "    <tr style=\"text-align: right;\">\n",
       "      <th></th>\n",
       "      <th>Hours</th>\n",
       "      <th>Scores</th>\n",
       "    </tr>\n",
       "  </thead>\n",
       "  <tbody>\n",
       "    <tr>\n",
       "      <th>0</th>\n",
       "      <td>2.5</td>\n",
       "      <td>21</td>\n",
       "    </tr>\n",
       "    <tr>\n",
       "      <th>1</th>\n",
       "      <td>5.1</td>\n",
       "      <td>47</td>\n",
       "    </tr>\n",
       "    <tr>\n",
       "      <th>2</th>\n",
       "      <td>3.2</td>\n",
       "      <td>27</td>\n",
       "    </tr>\n",
       "    <tr>\n",
       "      <th>3</th>\n",
       "      <td>8.5</td>\n",
       "      <td>75</td>\n",
       "    </tr>\n",
       "    <tr>\n",
       "      <th>4</th>\n",
       "      <td>3.5</td>\n",
       "      <td>30</td>\n",
       "    </tr>\n",
       "    <tr>\n",
       "      <th>5</th>\n",
       "      <td>1.5</td>\n",
       "      <td>20</td>\n",
       "    </tr>\n",
       "    <tr>\n",
       "      <th>6</th>\n",
       "      <td>9.2</td>\n",
       "      <td>88</td>\n",
       "    </tr>\n",
       "    <tr>\n",
       "      <th>7</th>\n",
       "      <td>5.5</td>\n",
       "      <td>60</td>\n",
       "    </tr>\n",
       "    <tr>\n",
       "      <th>8</th>\n",
       "      <td>8.3</td>\n",
       "      <td>81</td>\n",
       "    </tr>\n",
       "    <tr>\n",
       "      <th>9</th>\n",
       "      <td>2.7</td>\n",
       "      <td>25</td>\n",
       "    </tr>\n",
       "    <tr>\n",
       "      <th>10</th>\n",
       "      <td>7.7</td>\n",
       "      <td>85</td>\n",
       "    </tr>\n",
       "    <tr>\n",
       "      <th>11</th>\n",
       "      <td>5.9</td>\n",
       "      <td>62</td>\n",
       "    </tr>\n",
       "    <tr>\n",
       "      <th>12</th>\n",
       "      <td>4.5</td>\n",
       "      <td>41</td>\n",
       "    </tr>\n",
       "    <tr>\n",
       "      <th>13</th>\n",
       "      <td>3.3</td>\n",
       "      <td>42</td>\n",
       "    </tr>\n",
       "    <tr>\n",
       "      <th>14</th>\n",
       "      <td>1.1</td>\n",
       "      <td>17</td>\n",
       "    </tr>\n",
       "    <tr>\n",
       "      <th>15</th>\n",
       "      <td>8.9</td>\n",
       "      <td>95</td>\n",
       "    </tr>\n",
       "    <tr>\n",
       "      <th>16</th>\n",
       "      <td>2.5</td>\n",
       "      <td>30</td>\n",
       "    </tr>\n",
       "    <tr>\n",
       "      <th>17</th>\n",
       "      <td>1.9</td>\n",
       "      <td>24</td>\n",
       "    </tr>\n",
       "    <tr>\n",
       "      <th>18</th>\n",
       "      <td>6.1</td>\n",
       "      <td>67</td>\n",
       "    </tr>\n",
       "    <tr>\n",
       "      <th>19</th>\n",
       "      <td>7.4</td>\n",
       "      <td>69</td>\n",
       "    </tr>\n",
       "    <tr>\n",
       "      <th>20</th>\n",
       "      <td>2.7</td>\n",
       "      <td>30</td>\n",
       "    </tr>\n",
       "    <tr>\n",
       "      <th>21</th>\n",
       "      <td>4.8</td>\n",
       "      <td>54</td>\n",
       "    </tr>\n",
       "    <tr>\n",
       "      <th>22</th>\n",
       "      <td>3.8</td>\n",
       "      <td>35</td>\n",
       "    </tr>\n",
       "    <tr>\n",
       "      <th>23</th>\n",
       "      <td>6.9</td>\n",
       "      <td>76</td>\n",
       "    </tr>\n",
       "    <tr>\n",
       "      <th>24</th>\n",
       "      <td>7.8</td>\n",
       "      <td>86</td>\n",
       "    </tr>\n",
       "  </tbody>\n",
       "</table>\n",
       "</div>"
      ],
      "text/plain": [
       "    Hours  Scores\n",
       "0     2.5      21\n",
       "1     5.1      47\n",
       "2     3.2      27\n",
       "3     8.5      75\n",
       "4     3.5      30\n",
       "5     1.5      20\n",
       "6     9.2      88\n",
       "7     5.5      60\n",
       "8     8.3      81\n",
       "9     2.7      25\n",
       "10    7.7      85\n",
       "11    5.9      62\n",
       "12    4.5      41\n",
       "13    3.3      42\n",
       "14    1.1      17\n",
       "15    8.9      95\n",
       "16    2.5      30\n",
       "17    1.9      24\n",
       "18    6.1      67\n",
       "19    7.4      69\n",
       "20    2.7      30\n",
       "21    4.8      54\n",
       "22    3.8      35\n",
       "23    6.9      76\n",
       "24    7.8      86"
      ]
     },
     "execution_count": 4,
     "metadata": {},
     "output_type": "execute_result"
    }
   ],
   "source": [
    "#show the dataset\n",
    "data"
   ]
  },
  {
   "cell_type": "code",
   "execution_count": 5,
   "id": "df370dcd",
   "metadata": {},
   "outputs": [
    {
     "data": {
      "text/html": [
       "<div>\n",
       "<style scoped>\n",
       "    .dataframe tbody tr th:only-of-type {\n",
       "        vertical-align: middle;\n",
       "    }\n",
       "\n",
       "    .dataframe tbody tr th {\n",
       "        vertical-align: top;\n",
       "    }\n",
       "\n",
       "    .dataframe thead th {\n",
       "        text-align: right;\n",
       "    }\n",
       "</style>\n",
       "<table border=\"1\" class=\"dataframe\">\n",
       "  <thead>\n",
       "    <tr style=\"text-align: right;\">\n",
       "      <th></th>\n",
       "      <th>Hours</th>\n",
       "      <th>Scores</th>\n",
       "    </tr>\n",
       "  </thead>\n",
       "  <tbody>\n",
       "    <tr>\n",
       "      <th>count</th>\n",
       "      <td>25.000000</td>\n",
       "      <td>25.000000</td>\n",
       "    </tr>\n",
       "    <tr>\n",
       "      <th>mean</th>\n",
       "      <td>5.012000</td>\n",
       "      <td>51.480000</td>\n",
       "    </tr>\n",
       "    <tr>\n",
       "      <th>std</th>\n",
       "      <td>2.525094</td>\n",
       "      <td>25.286887</td>\n",
       "    </tr>\n",
       "    <tr>\n",
       "      <th>min</th>\n",
       "      <td>1.100000</td>\n",
       "      <td>17.000000</td>\n",
       "    </tr>\n",
       "    <tr>\n",
       "      <th>25%</th>\n",
       "      <td>2.700000</td>\n",
       "      <td>30.000000</td>\n",
       "    </tr>\n",
       "    <tr>\n",
       "      <th>50%</th>\n",
       "      <td>4.800000</td>\n",
       "      <td>47.000000</td>\n",
       "    </tr>\n",
       "    <tr>\n",
       "      <th>75%</th>\n",
       "      <td>7.400000</td>\n",
       "      <td>75.000000</td>\n",
       "    </tr>\n",
       "    <tr>\n",
       "      <th>max</th>\n",
       "      <td>9.200000</td>\n",
       "      <td>95.000000</td>\n",
       "    </tr>\n",
       "  </tbody>\n",
       "</table>\n",
       "</div>"
      ],
      "text/plain": [
       "           Hours     Scores\n",
       "count  25.000000  25.000000\n",
       "mean    5.012000  51.480000\n",
       "std     2.525094  25.286887\n",
       "min     1.100000  17.000000\n",
       "25%     2.700000  30.000000\n",
       "50%     4.800000  47.000000\n",
       "75%     7.400000  75.000000\n",
       "max     9.200000  95.000000"
      ]
     },
     "execution_count": 5,
     "metadata": {},
     "output_type": "execute_result"
    }
   ],
   "source": [
    "#describe the dataset\n",
    "data.describe()"
   ]
  },
  {
   "cell_type": "code",
   "execution_count": 6,
   "id": "7a310436",
   "metadata": {},
   "outputs": [],
   "source": [
    "x=data.iloc[:,:-1].values\n",
    "y=data.iloc[:,-1].values"
   ]
  },
  {
   "cell_type": "code",
   "execution_count": 10,
   "id": "741cf89b",
   "metadata": {},
   "outputs": [],
   "source": [
    "from sklearn.model_selection import train_test_split\n",
    "x_train,x_test,y_train,y_test=train_test_split(x,y,test_size=0.2,random_state=0)"
   ]
  },
  {
   "cell_type": "code",
   "execution_count": 11,
   "id": "f72c79b0",
   "metadata": {},
   "outputs": [
    {
     "data": {
      "text/plain": [
       "LinearRegression()"
      ]
     },
     "execution_count": 11,
     "metadata": {},
     "output_type": "execute_result"
    }
   ],
   "source": [
    "from sklearn.linear_model import LinearRegression\n",
    "L=LinearRegression()\n",
    "L.fit(x_train,y_train)"
   ]
  },
  {
   "cell_type": "code",
   "execution_count": 13,
   "id": "7814bdcb",
   "metadata": {},
   "outputs": [
    {
     "data": {
      "text/plain": [
       "array([93.69173249])"
      ]
     },
     "execution_count": 13,
     "metadata": {},
     "output_type": "execute_result"
    }
   ],
   "source": [
    "Y_pred=L.predict(x_test)\n",
    "L.predict([[9.25]])"
   ]
  },
  {
   "cell_type": "code",
   "execution_count": 14,
   "id": "8412e421",
   "metadata": {},
   "outputs": [
    {
     "data": {
      "image/png": "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\n",
      "text/plain": [
       "<Figure size 432x288 with 1 Axes>"
      ]
     },
     "metadata": {
      "needs_background": "light"
     },
     "output_type": "display_data"
    }
   ],
   "source": [
    "plt.scatter(x_train,y_train,color='green')\n",
    "plt.plot(x_train,L.predict(x_train),color='Red')\n",
    "plt.show()"
   ]
  },
  {
   "cell_type": "code",
   "execution_count": 15,
   "id": "2a25c1a2",
   "metadata": {},
   "outputs": [
    {
     "data": {
      "image/png": "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\n",
      "text/plain": [
       "<Figure size 432x288 with 1 Axes>"
      ]
     },
     "metadata": {
      "needs_background": "light"
     },
     "output_type": "display_data"
    }
   ],
   "source": [
    "plt.scatter(x_test,y_test,color='blue')\n",
    "plt.plot(x_train,L.predict(x_train),color='Red')\n",
    "plt.show()"
   ]
  }
 ],
 "metadata": {
  "kernelspec": {
   "display_name": "Python 3 (ipykernel)",
   "language": "python",
   "name": "python3"
  },
  "language_info": {
   "codemirror_mode": {
    "name": "ipython",
    "version": 3
   },
   "file_extension": ".py",
   "mimetype": "text/x-python",
   "name": "python",
   "nbconvert_exporter": "python",
   "pygments_lexer": "ipython3",
   "version": "3.9.7"
  }
 },
 "nbformat": 4,
 "nbformat_minor": 5
}
